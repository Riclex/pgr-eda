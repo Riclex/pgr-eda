{
 "cells": [
  {
   "cell_type": "code",
   "execution_count": null,
   "metadata": {},
   "outputs": [],
   "source": [
    "# Importing the required libraries\n",
    "from bs4 import BeautifulSoup\n",
    "import requests\n",
    "import pandas as pd \n",
    "from IPython.display import display, HTML\n",
    "import re"
   ]
  },
  {
   "cell_type": "code",
   "execution_count": null,
   "metadata": {},
   "outputs": [],
   "source": [
    "# Url for the arrested assets section\n",
    "# Example: url = 'https://www.senra.pgr.ao/arrestados'\n",
    "url = 'Enter URL here'"
   ]
  },
  {
   "cell_type": "code",
   "execution_count": null,
   "metadata": {},
   "outputs": [],
   "source": [
    "# Path to save the csv file \n",
    "# Example: csv_path = './PGR Report/arrestados.csv\n",
    "csv_path = 'Path to save CSV file'"
   ]
  },
  {
   "cell_type": "code",
   "execution_count": null,
   "metadata": {},
   "outputs": [],
   "source": [
    "response = requests.get(url)\n",
    "\n",
    "html_content = response.content\n",
    "\n",
    "# Parse the HTML content\n",
    "soup = BeautifulSoup(html_content, 'html.parser')"
   ]
  },
  {
   "cell_type": "code",
   "execution_count": null,
   "metadata": {},
   "outputs": [],
   "source": [
    "def extract_table_data(soup):\n",
    "    table = soup.find('table')\n",
    "    data = []\n",
    "    headers = [header.text.strip() for header in table.find_all('th')]\n",
    "    for row in table.find_all('tr')[1:]:  # Skip header row\n",
    "        columns = row.find_all('td')\n",
    "        data.append([column.text.strip() for column in columns])\n",
    "    return headers, data\n",
    "\n",
    "headers, table_data = extract_table_data(soup)\n",
    "\n",
    "# Convert to DataFrame with headers\n",
    "df = pd.DataFrame(table_data, columns=headers)\n",
    "\n",
    "# Display a sample of the DataFrame\n",
    "df.head()\n",
    "\n",
    "# Display the complete DataFrame\n",
    "#display(HTML(df.to_html()))"
   ]
  },
  {
   "cell_type": "code",
   "execution_count": null,
   "metadata": {},
   "outputs": [],
   "source": [
    "# Save DataFrame as CSV file\n",
    "df.to_csv(csv_path)"
   ]
  }
 ],
 "metadata": {
  "language_info": {
   "name": "python"
  }
 },
 "nbformat": 4,
 "nbformat_minor": 2
}
