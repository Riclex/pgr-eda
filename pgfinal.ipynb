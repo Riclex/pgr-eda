{
 "cells": [
  {
   "cell_type": "code",
   "execution_count": 7,
   "metadata": {},
   "outputs": [],
   "source": [
    "#import the required libraries\n",
    "import csv\n",
    "import pandas as pd\n",
    "import numpy as np\n",
    "import matplotlib.pyplot as plt\n",
    "import seaborn as sns\n",
    "from IPython.display import display, HTML\n",
    "import psycopg2\n",
    "\n",
    "#pd.set_option(\"display.precision\", 2)\n",
    "\n",
    "# Graphics in retina format are more sharp and legible\n",
    "%config InlineBackend.figure_format = 'retina'"
   ]
  },
  {
   "cell_type": "code",
   "execution_count": 8,
   "metadata": {},
   "outputs": [
    {
     "data": {
      "text/html": [
       "<div>\n",
       "<style scoped>\n",
       "    .dataframe tbody tr th:only-of-type {\n",
       "        vertical-align: middle;\n",
       "    }\n",
       "\n",
       "    .dataframe tbody tr th {\n",
       "        vertical-align: top;\n",
       "    }\n",
       "\n",
       "    .dataframe thead th {\n",
       "        text-align: right;\n",
       "    }\n",
       "</style>\n",
       "<table border=\"1\" class=\"dataframe\">\n",
       "  <thead>\n",
       "    <tr style=\"text-align: right;\">\n",
       "      <th></th>\n",
       "      <th>asset</th>\n",
       "      <th>value</th>\n",
       "      <th>receiver</th>\n",
       "      <th>status</th>\n",
       "      <th>year</th>\n",
       "    </tr>\n",
       "  </thead>\n",
       "  <tbody>\n",
       "    <tr>\n",
       "      <th>0</th>\n",
       "      <td>236</td>\n",
       "      <td>0.0</td>\n",
       "      <td>Ministério das Finanças</td>\n",
       "      <td>Propriedade do Estado</td>\n",
       "      <td>2024</td>\n",
       "    </tr>\n",
       "    <tr>\n",
       "      <th>1</th>\n",
       "      <td>235</td>\n",
       "      <td>0.0</td>\n",
       "      <td>Ministério das Finanças</td>\n",
       "      <td>Propriedade do Estado</td>\n",
       "      <td>2024</td>\n",
       "    </tr>\n",
       "    <tr>\n",
       "      <th>2</th>\n",
       "      <td>234</td>\n",
       "      <td>0.0</td>\n",
       "      <td>Ministério das Finanças</td>\n",
       "      <td>Propriedade do Estado</td>\n",
       "      <td>2024</td>\n",
       "    </tr>\n",
       "    <tr>\n",
       "      <th>3</th>\n",
       "      <td>233</td>\n",
       "      <td>0.0</td>\n",
       "      <td>Ministério das Finanças</td>\n",
       "      <td>Propriedade do Estado</td>\n",
       "      <td>2024</td>\n",
       "    </tr>\n",
       "    <tr>\n",
       "      <th>4</th>\n",
       "      <td>232</td>\n",
       "      <td>11110.0</td>\n",
       "      <td>BNA</td>\n",
       "      <td>à guarda do BNA</td>\n",
       "      <td>2024</td>\n",
       "    </tr>\n",
       "  </tbody>\n",
       "</table>\n",
       "</div>"
      ],
      "text/plain": [
       "   asset    value                 receiver                 status  year\n",
       "0    236      0.0  Ministério das Finanças  Propriedade do Estado  2024\n",
       "1    235      0.0  Ministério das Finanças  Propriedade do Estado  2024\n",
       "2    234      0.0  Ministério das Finanças  Propriedade do Estado  2024\n",
       "3    233      0.0  Ministério das Finanças  Propriedade do Estado  2024\n",
       "4    232  11110.0                      BNA        à guarda do BNA  2024"
      ]
     },
     "execution_count": 8,
     "metadata": {},
     "output_type": "execute_result"
    }
   ],
   "source": [
    "# Read the csv file\n",
    "df = pd.read_csv('c:/Users/ricki/Documents/Freelance/Projects/pgr.csv', delimiter=',')\n",
    "df.head()"
   ]
  },
  {
   "cell_type": "code",
   "execution_count": 9,
   "metadata": {},
   "outputs": [
    {
     "data": {
      "text/html": [
       "<div>\n",
       "<style scoped>\n",
       "    .dataframe tbody tr th:only-of-type {\n",
       "        vertical-align: middle;\n",
       "    }\n",
       "\n",
       "    .dataframe tbody tr th {\n",
       "        vertical-align: top;\n",
       "    }\n",
       "\n",
       "    .dataframe thead th {\n",
       "        text-align: right;\n",
       "    }\n",
       "</style>\n",
       "<table border=\"1\" class=\"dataframe\">\n",
       "  <thead>\n",
       "    <tr style=\"text-align: right;\">\n",
       "      <th></th>\n",
       "      <th>asset</th>\n",
       "      <th>value</th>\n",
       "      <th>receiver</th>\n",
       "      <th>status</th>\n",
       "      <th>year</th>\n",
       "    </tr>\n",
       "  </thead>\n",
       "  <tbody>\n",
       "    <tr>\n",
       "      <th>837</th>\n",
       "      <td>6</td>\n",
       "      <td>0.0</td>\n",
       "      <td>CA da respectiva Sociedade</td>\n",
       "      <td>Ministério das Telecomunicações, Tecnologias d...</td>\n",
       "      <td>2019</td>\n",
       "    </tr>\n",
       "    <tr>\n",
       "      <th>838</th>\n",
       "      <td>5</td>\n",
       "      <td>0.0</td>\n",
       "      <td>CA da respectiva Sociedade</td>\n",
       "      <td>Alteração do fiel depositário para o Ministéri...</td>\n",
       "      <td>2019</td>\n",
       "    </tr>\n",
       "    <tr>\n",
       "      <th>839</th>\n",
       "      <td>4</td>\n",
       "      <td>350000000.0</td>\n",
       "      <td>CA da respectiva Sociedade</td>\n",
       "      <td>Foi alterado o fiel depositário para o IGAPE e...</td>\n",
       "      <td>2019</td>\n",
       "    </tr>\n",
       "    <tr>\n",
       "      <th>840</th>\n",
       "      <td>3</td>\n",
       "      <td>630000000.0</td>\n",
       "      <td>CA da respectiva Sociedade</td>\n",
       "      <td>à guarda do fiel depositário</td>\n",
       "      <td>2019</td>\n",
       "    </tr>\n",
       "    <tr>\n",
       "      <th>841</th>\n",
       "      <td>2</td>\n",
       "      <td>420000000.0</td>\n",
       "      <td>CA da respectiva Sociedade</td>\n",
       "      <td>à guarda do fiel depositário</td>\n",
       "      <td>2019</td>\n",
       "    </tr>\n",
       "  </tbody>\n",
       "</table>\n",
       "</div>"
      ],
      "text/plain": [
       "     asset        value                    receiver  \\\n",
       "837      6          0.0  CA da respectiva Sociedade   \n",
       "838      5          0.0  CA da respectiva Sociedade   \n",
       "839      4  350000000.0  CA da respectiva Sociedade   \n",
       "840      3  630000000.0  CA da respectiva Sociedade   \n",
       "841      2  420000000.0  CA da respectiva Sociedade   \n",
       "\n",
       "                                                status  year  \n",
       "837  Ministério das Telecomunicações, Tecnologias d...  2019  \n",
       "838  Alteração do fiel depositário para o Ministéri...  2019  \n",
       "839  Foi alterado o fiel depositário para o IGAPE e...  2019  \n",
       "840                       à guarda do fiel depositário  2019  \n",
       "841                       à guarda do fiel depositário  2019  "
      ]
     },
     "execution_count": 9,
     "metadata": {},
     "output_type": "execute_result"
    }
   ],
   "source": [
    "df.tail()"
   ]
  },
  {
   "cell_type": "code",
   "execution_count": 10,
   "metadata": {},
   "outputs": [
    {
     "name": "stdout",
     "output_type": "stream",
     "text": [
      "      asset               value   year\n",
      "count   842                 842    842\n",
      "mean    204      59,115,587,458  2,021\n",
      "std     156   1,002,805,026,113      1\n",
      "min       1                   0  2,019\n",
      "25%      79             322,000  2,020\n",
      "50%     156           3,844,555  2,021\n",
      "75%     310         900,907,500  2,021\n",
      "max     559  22,942,642,018,900  2,024\n"
     ]
    }
   ],
   "source": [
    "desc = df.describe()\n",
    "desc_formatted = desc.applymap(lambda x: f\"{x:,.0f}\")\n",
    "print(desc_formatted)\n"
   ]
  },
  {
   "cell_type": "code",
   "execution_count": 11,
   "metadata": {},
   "outputs": [
    {
     "name": "stdout",
     "output_type": "stream",
     "text": [
      "<class 'pandas.core.frame.DataFrame'>\n",
      "RangeIndex: 842 entries, 0 to 841\n",
      "Data columns (total 5 columns):\n",
      " #   Column    Non-Null Count  Dtype  \n",
      "---  ------    --------------  -----  \n",
      " 0   asset     842 non-null    int64  \n",
      " 1   value     842 non-null    float64\n",
      " 2   receiver  842 non-null    object \n",
      " 3   status    842 non-null    object \n",
      " 4   year      842 non-null    int64  \n",
      "dtypes: float64(1), int64(2), object(2)\n",
      "memory usage: 33.0+ KB\n"
     ]
    }
   ],
   "source": [
    "df.info()"
   ]
  },
  {
   "cell_type": "code",
   "execution_count": 12,
   "metadata": {},
   "outputs": [
    {
     "data": {
      "text/plain": [
       "asset       0\n",
       "value       0\n",
       "receiver    0\n",
       "status      0\n",
       "year        0\n",
       "dtype: int64"
      ]
     },
     "execution_count": 12,
     "metadata": {},
     "output_type": "execute_result"
    }
   ],
   "source": [
    "df.isnull().sum()"
   ]
  },
  {
   "cell_type": "code",
   "execution_count": 13,
   "metadata": {},
   "outputs": [
    {
     "data": {
      "text/html": [
       "<div>\n",
       "<style scoped>\n",
       "    .dataframe tbody tr th:only-of-type {\n",
       "        vertical-align: middle;\n",
       "    }\n",
       "\n",
       "    .dataframe tbody tr th {\n",
       "        vertical-align: top;\n",
       "    }\n",
       "\n",
       "    .dataframe thead th {\n",
       "        text-align: right;\n",
       "    }\n",
       "</style>\n",
       "<table border=\"1\" class=\"dataframe\">\n",
       "  <thead>\n",
       "    <tr style=\"text-align: right;\">\n",
       "      <th></th>\n",
       "      <th>receiver</th>\n",
       "      <th>status</th>\n",
       "    </tr>\n",
       "  </thead>\n",
       "  <tbody>\n",
       "    <tr>\n",
       "      <th>count</th>\n",
       "      <td>842</td>\n",
       "      <td>842</td>\n",
       "    </tr>\n",
       "    <tr>\n",
       "      <th>unique</th>\n",
       "      <td>38</td>\n",
       "      <td>29</td>\n",
       "    </tr>\n",
       "    <tr>\n",
       "      <th>top</th>\n",
       "      <td>Cofre Geral de Justiça</td>\n",
       "      <td>à guarda do fiel depositário</td>\n",
       "    </tr>\n",
       "    <tr>\n",
       "      <th>freq</th>\n",
       "      <td>356</td>\n",
       "      <td>554</td>\n",
       "    </tr>\n",
       "  </tbody>\n",
       "</table>\n",
       "</div>"
      ],
      "text/plain": [
       "                      receiver                        status\n",
       "count                      842                           842\n",
       "unique                      38                            29\n",
       "top     Cofre Geral de Justiça  à guarda do fiel depositário\n",
       "freq                       356                           554"
      ]
     },
     "execution_count": 13,
     "metadata": {},
     "output_type": "execute_result"
    }
   ],
   "source": [
    "df.describe(include=[\"object\"])"
   ]
  },
  {
   "cell_type": "code",
   "execution_count": 14,
   "metadata": {},
   "outputs": [
    {
     "data": {
      "text/plain": [
       "Cofre Geral de Justiça                                        356\n",
       "Ministério das Finanças                                       167\n",
       "Instituição Financeira Bancária                               112\n",
       "ASCOFA                                                         57\n",
       "BNA                                                            30\n",
       "China Sonangol International Limited                           21\n",
       "Fundo de Fomento Habitacional                                  18\n",
       "IGAPE                                                          12\n",
       "CA da respectiva Sociedade                                     10\n",
       "Ministério do Comércio e Indústria                              8\n",
       "INSS                                                            6\n",
       "Ministério das Telecomunicações e Tecnologia de Informação      6\n",
       "Ministério da Saúde                                             4\n",
       "Direcção Nacional do Património do Estado                       4\n",
       "Sonangol, E.P.                                                  3\n",
       "Banco de Poupança e Crédito                                     2\n",
       "Ministério da Energia e Águas                                   2\n",
       "Fundo Soberano de Angola                                        2\n",
       "Ministério dos Transportes                                      2\n",
       "Instituto Nacional de Habitação                                 2\n",
       "CA da Empresa                                                   1\n",
       "CA da empresa UNITEL HOLDING BV                                 1\n",
       "CA da empresa NOS SGPS                                          1\n",
       "CA da empresa KENTO HOLDING LIMITED                             1\n",
       "Sociedade Imobiliária gestora autorizada                        1\n",
       "Sociedade gestora autorizada                                    1\n",
       "CA da Empresa Esperaza Holding BV                               1\n",
       "CA da Efacec Power Solutions                                    1\n",
       "MInistério das Finanças                                         1\n",
       "Ministério da Indústria e Comércio                              1\n",
       "Força Aérea Nacional                                            1\n",
       "Governo Provincial de Benguela                                  1\n",
       "Ministério da Educação                                          1\n",
       "Ministério das Finanças/IGAPE                                   1\n",
       "Banco                                                           1\n",
       "Ministério das Obras Públicas, Urbanismo e Habitação            1\n",
       "Ministério dos Recursos Minerais Petróleo e Gás                 1\n",
       "CA do Banco EuroBIC                                             1\n",
       "Name: receiver, dtype: int64"
      ]
     },
     "execution_count": 14,
     "metadata": {},
     "output_type": "execute_result"
    }
   ],
   "source": [
    "df[\"receiver\"].value_counts()"
   ]
  },
  {
   "cell_type": "code",
   "execution_count": 15,
   "metadata": {},
   "outputs": [
    {
     "data": {
      "text/plain": [
       "à guarda do fiel depositário                                                                                                    554\n",
       "Propriedade do Estado                                                                                                           107\n",
       "Entregue ao Estado                                                                                                               75\n",
       "Afectado a uma instituição pública                                                                                               42\n",
       "à guarda do BNA                                                                                                                  23\n",
       "Entregue ao Ministério das Finanças                                                                                               5\n",
       "Sob gestão do Ministério das Finanças                                                                                             5\n",
       "Alteração do fiel depositário para o IGAPE em 2021                                                                                4\n",
       "As acções foram nacionalizadas                                                                                                    3\n",
       "Aguarda formalização da entrega                                                                                                   3\n",
       "Sob gestão do Ministério da Saúde                                                                                                 2\n",
       "Privatizada na Modalidade de Cessão do Direito de Exploração e Gestão                                                             2\n",
       "Sob Gestão do Ministério da Saúde                                                                                                 1\n",
       "Nacionalizadas pelo Estado Português                                                                                              1\n",
       "Sob gestão da sociedade imobiliária autorizada pelo Tribunal local                                                                1\n",
       "Ministério das Telecomunicações, Tecnologias de Informação e Comunicação Social em 2022                                           1\n",
       "Torre A afectada a uma instituição pública                                                                                        1\n",
       "Alteração do fiel depositário para o Ministério das Telecomunicações, Tecnologias de Informação e Comunicação Social em 2022      1\n",
       "Já se encontram sob a gestão da Sonangol através de uma decisão arbitral na Holanda de 2022                                       1\n",
       "Sob gestão do Fundo Soberano                                                                                                      1\n",
       "à guarda do Banco                                                                                                                 1\n",
       "0                                                                                                                                 1\n",
       "Sob gestão do Fundo Soberano(1 000 000 000,00 retirado para o PIIM-Plano Integrado de Intervenção nos Municípios)                 1\n",
       "Sob gestão do Porto de Luanda, que cedeu a exploração à empresa DPWORLD DUBAI                                                     1\n",
       "Sob gestão do Porto do Lobito                                                                                                     1\n",
       "Actualmente funciona o 4º Cartório Notarial de Luanda e outros serviços da justiça                                                1\n",
       "Entregue ao INSS                                                                                                                  1\n",
       "IGAPE                                                                                                                             1\n",
       "Foi alterado o fiel depositário para o IGAPE e posteriormente as acções foram nacionalizadas em 2022                              1\n",
       "Name: status, dtype: int64"
      ]
     },
     "execution_count": 15,
     "metadata": {},
     "output_type": "execute_result"
    }
   ],
   "source": [
    "df[\"status\"].value_counts()"
   ]
  },
  {
   "cell_type": "code",
   "execution_count": 16,
   "metadata": {},
   "outputs": [],
   "source": [
    "def run_query(query):\n",
    "    try:\n",
    "        conn = psycopg2.connect(\n",
    "        user=\"*****\",\n",
    "        password=\"*****\",\n",
    "        host=\"000.0.0.0\",\n",
    "        port=\"****\",\n",
    "        database=\"*******\"\n",
    "        )\n",
    "        cur = conn.cursor()\n",
    "        print(\"Connected to PostgreSQL\")\n",
    "\n",
    "        #execute query\n",
    "        cur.execute(query)\n",
    "\n",
    "        rows = cur.fetchall()\n",
    "        qdf = pd.DataFrame(rows, columns=[desc[0] for desc in cur.description])\n",
    "\n",
    "        cur.close()\n",
    "        conn.close()\n",
    "        print(\"PostgreSQL connection is closed\")\n",
    "        \n",
    "        return qdf\n",
    "\n",
    "    except (Exception, psycopg2.Error) as error:\n",
    "        print(\"Error while connecting to PostgreSQL\", error)\n",
    "\n",
    "#finally:\n",
    "        #if conn:\n",
    "        #    cur.close()\n",
    "        #    conn.close()\n",
    "        #    print(\"PostgreSQL connection is closed\")"
   ]
  },
  {
   "cell_type": "code",
   "execution_count": 17,
   "metadata": {},
   "outputs": [
    {
     "name": "stdout",
     "output_type": "stream",
     "text": [
      "Connected to PostgreSQL\n",
      "PostgreSQL connection is closed\n"
     ]
    },
    {
     "data": {
      "text/html": [
       "<table border=\"1\" class=\"dataframe\">\n",
       "  <thead>\n",
       "    <tr style=\"text-align: right;\">\n",
       "      <th></th>\n",
       "      <th>id</th>\n",
       "      <th>asset</th>\n",
       "      <th>value</th>\n",
       "      <th>receiver</th>\n",
       "      <th>status</th>\n",
       "      <th>year</th>\n",
       "    </tr>\n",
       "  </thead>\n",
       "  <tbody>\n",
       "    <tr>\n",
       "      <th>0</th>\n",
       "      <td>1441</td>\n",
       "      <td>236</td>\n",
       "      <td>0.0</td>\n",
       "      <td>Ministerio das Financas</td>\n",
       "      <td>Propriedade do Estado</td>\n",
       "      <td>2024</td>\n",
       "    </tr>\n",
       "    <tr>\n",
       "      <th>1</th>\n",
       "      <td>1442</td>\n",
       "      <td>235</td>\n",
       "      <td>0.0</td>\n",
       "      <td>Ministerio das Financas</td>\n",
       "      <td>Propriedade do Estado</td>\n",
       "      <td>2024</td>\n",
       "    </tr>\n",
       "    <tr>\n",
       "      <th>2</th>\n",
       "      <td>1443</td>\n",
       "      <td>234</td>\n",
       "      <td>0.0</td>\n",
       "      <td>Ministerio das Financas</td>\n",
       "      <td>Propriedade do Estado</td>\n",
       "      <td>2024</td>\n",
       "    </tr>\n",
       "    <tr>\n",
       "      <th>3</th>\n",
       "      <td>1444</td>\n",
       "      <td>233</td>\n",
       "      <td>0.0</td>\n",
       "      <td>Ministerio das Financas</td>\n",
       "      <td>Propriedade do Estado</td>\n",
       "      <td>2024</td>\n",
       "    </tr>\n",
       "    <tr>\n",
       "      <th>4</th>\n",
       "      <td>1445</td>\n",
       "      <td>232</td>\n",
       "      <td>11110.0</td>\n",
       "      <td>BNA</td>\n",
       "      <td>a guarda do BNA</td>\n",
       "      <td>2024</td>\n",
       "    </tr>\n",
       "  </tbody>\n",
       "</table>"
      ],
      "text/plain": [
       "<IPython.core.display.HTML object>"
      ]
     },
     "metadata": {},
     "output_type": "display_data"
    }
   ],
   "source": [
    "query = \"SELECT * FROM finances\"\n",
    "result_df = run_query(query)\n",
    "#print(result_df.head(5).to_string(index=True, justify='center'))\n",
    "display(HTML(result_df.head().to_html()))"
   ]
  },
  {
   "cell_type": "code",
   "execution_count": 18,
   "metadata": {},
   "outputs": [
    {
     "name": "stdout",
     "output_type": "stream",
     "text": [
      "Connected to PostgreSQL\n",
      "PostgreSQL connection is closed\n",
      "  activos_apreendidos\n",
      "0    23294757092815.0\n"
     ]
    }
   ],
   "source": [
    "query = \"SELECT SUM(value) AS activos_apreendidos FROM finances WHERE id BETWEEN 1668 AND 2137\"\n",
    "result_df = run_query(query)\n",
    "print(result_df)"
   ]
  },
  {
   "cell_type": "markdown",
   "metadata": {},
   "source": [
    "23,294,757,092,815.0"
   ]
  },
  {
   "cell_type": "code",
   "execution_count": 19,
   "metadata": {},
   "outputs": [
    {
     "name": "stdout",
     "output_type": "stream",
     "text": [
      "Connected to PostgreSQL\n",
      "PostgreSQL connection is closed\n",
      "  activos_recuperados\n",
      "0     2836622091777.0\n"
     ]
    }
   ],
   "source": [
    "query = \"SELECT SUM(value) AS activos_recuperados FROM finances WHERE id BETWEEN 1441 AND 1667\"\n",
    "result_df = run_query(query)\n",
    "\n",
    "print(result_df)"
   ]
  },
  {
   "cell_type": "markdown",
   "metadata": {},
   "source": [
    "2,836,622,091,777.0"
   ]
  },
  {
   "cell_type": "code",
   "execution_count": 20,
   "metadata": {},
   "outputs": [
    {
     "name": "stdout",
     "output_type": "stream",
     "text": [
      "Connected to PostgreSQL\n",
      "PostgreSQL connection is closed\n",
      "  activos_arrestados\n",
      "0   23643945454919.0\n"
     ]
    }
   ],
   "source": [
    "query = \"SELECT SUM(value) AS activos_arrestados FROM finances WHERE id BETWEEN 2138 AND 2282\"\n",
    "result_df = run_query(query)\n",
    "\n",
    "print(result_df)"
   ]
  },
  {
   "cell_type": "markdown",
   "metadata": {},
   "source": [
    "23,643,945,454,919.0"
   ]
  }
 ],
 "metadata": {
  "kernelspec": {
   "display_name": "Python 3",
   "language": "python",
   "name": "python3"
  },
  "language_info": {
   "codemirror_mode": {
    "name": "ipython",
    "version": 3
   },
   "file_extension": ".py",
   "mimetype": "text/x-python",
   "name": "python",
   "nbconvert_exporter": "python",
   "pygments_lexer": "ipython3",
   "version": "3.11.3"
  }
 },
 "nbformat": 4,
 "nbformat_minor": 2
}
